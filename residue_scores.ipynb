{
 "cells": [
  {
   "cell_type": "code",
   "execution_count": 1,
   "metadata": {},
   "outputs": [],
   "source": [
    "from pyagadir.models import AGADIR\n",
    "from pyagadir.models import get_dG_dipole, get_dG_Int, get_dG_i1, get_dG_i3, get_dG_i4, get_dG_Ncap, get_dG_Ccap, get_dG_Hbond\n",
    "import numpy as np"
   ]
  },
  {
   "cell_type": "code",
   "execution_count": 2,
   "metadata": {},
   "outputs": [
    {
     "data": {
      "text/plain": [
       "-1.55"
      ]
     },
     "execution_count": 2,
     "metadata": {},
     "output_type": "execute_result"
    }
   ],
   "source": [
    "get_dG_Hbond('DSTAAREK')"
   ]
  },
  {
   "cell_type": "code",
   "execution_count": 3,
   "metadata": {},
   "outputs": [
    {
     "data": {
      "text/plain": [
       "(array([-0.34,  0.  ,  0.  ,  0.  ,  0.  ,  0.21, -0.13,  0.2 ]),\n",
       " array([ 0.13,  0.  ,  0.  ,  0.  ,  0.  , -0.26,  0.46, -0.51]))"
      ]
     },
     "execution_count": 3,
     "metadata": {},
     "output_type": "execute_result"
    }
   ],
   "source": [
    "get_dG_dipole('DSTAAREK')"
   ]
  },
  {
   "cell_type": "code",
   "execution_count": 4,
   "metadata": {},
   "outputs": [
    {
     "data": {
      "text/plain": [
       "array([0.  , 1.13, 1.18, 0.61, 0.61, 0.67, 0.95, 0.  ])"
      ]
     },
     "execution_count": 4,
     "metadata": {},
     "output_type": "execute_result"
    }
   ],
   "source": [
    "get_dG_Int('DSTAAREK')"
   ]
  },
  {
   "cell_type": "code",
   "execution_count": 5,
   "metadata": {},
   "outputs": [
    {
     "data": {
      "text/plain": [
       "array([ 0.  ,  0.  ,  0.  ,  0.  ,  0.  , -0.05, -0.05,  0.  ])"
      ]
     },
     "execution_count": 5,
     "metadata": {},
     "output_type": "execute_result"
    }
   ],
   "source": [
    "get_dG_i1('DSTAAREK')"
   ]
  },
  {
   "cell_type": "code",
   "execution_count": 6,
   "metadata": {},
   "outputs": [
    {
     "data": {
      "text/plain": [
       "array([0., 0., 0., 0., 0., 0., 0., 0.])"
      ]
     },
     "execution_count": 6,
     "metadata": {},
     "output_type": "execute_result"
    }
   ],
   "source": [
    "get_dG_i3('DSTAAREK')"
   ]
  },
  {
   "cell_type": "code",
   "execution_count": 7,
   "metadata": {},
   "outputs": [
    {
     "data": {
      "text/plain": [
       "array([0., 0., 0., 0., 0., 0., 0., 0.])"
      ]
     },
     "execution_count": 7,
     "metadata": {},
     "output_type": "execute_result"
    }
   ],
   "source": [
    "get_dG_i4('DSTAAREK')"
   ]
  },
  {
   "cell_type": "code",
   "execution_count": 8,
   "metadata": {},
   "outputs": [
    {
     "data": {
      "text/plain": [
       "0.0"
      ]
     },
     "execution_count": 8,
     "metadata": {},
     "output_type": "execute_result"
    }
   ],
   "source": [
    "get_dG_Ncap('DSTAAREK')"
   ]
  },
  {
   "cell_type": "code",
   "execution_count": 9,
   "metadata": {},
   "outputs": [
    {
     "data": {
      "text/plain": [
       "0.0"
      ]
     },
     "execution_count": 9,
     "metadata": {},
     "output_type": "execute_result"
    }
   ],
   "source": [
    "get_dG_Ccap('DSTAAREK')"
   ]
  },
  {
   "cell_type": "code",
   "execution_count": 10,
   "metadata": {},
   "outputs": [
    {
     "name": "stdout",
     "output_type": "stream",
     "text": [
      "case 1\n",
      "case 1\n",
      "case 1\n",
      "case 1\n",
      "case 1\n",
      "case 1\n",
      "case 1\n",
      "case 1\n",
      "case 1\n",
      "case 1\n",
      "case 1\n",
      "case 1\n",
      "case 1\n",
      "case 1\n",
      "case 1\n",
      "case 1\n",
      "case 1\n",
      "case 1\n",
      "case 1\n",
      "case 1\n",
      "case 1\n",
      "case 1\n",
      "case 1\n",
      "11.95\n",
      "[ 0.          1.08484818  2.16965392  4.01743843 24.54926166 27.04674617\n",
      " 28.970249   29.48441833 29.00689759 24.86694912 19.50355355 14.64421709\n",
      " 11.04377445  5.3738644   2.64649844  1.50366438  0.92033324  0.30137058\n",
      "  0.        ]\n"
     ]
    }
   ],
   "source": [
    "model = AGADIR(method='1s')\n",
    "result = model.predict('ILKSLEEFLKVTLRSTRQT', )\n",
    "print(result.get_percent_helix())\n",
    "print(result.get_helical_propensity())\n",
    "# print(result.get_helix_contributions())\n",
    "# print(result.get_separate_helix_contributions())\n",
    "# print(result.get_initialized_params())"
   ]
  },
  {
   "cell_type": "code",
   "execution_count": 5,
   "metadata": {},
   "outputs": [
    {
     "data": {
      "text/plain": [
       "[0.0, 0.0, 0.0, 0.0, 0.0, 0.0, 0.0, 0.0, 0.0, 0.0]"
      ]
     },
     "execution_count": 5,
     "metadata": {},
     "output_type": "execute_result"
    }
   ],
   "source": []
  },
  {
   "cell_type": "code",
   "execution_count": 2,
   "metadata": {},
   "outputs": [
    {
     "name": "stdout",
     "output_type": "stream",
     "text": [
      "res aa helix\n"
     ]
    },
    {
     "ename": "NameError",
     "evalue": "name 'result' is not defined",
     "output_type": "error",
     "traceback": [
      "\u001b[0;31m---------------------------------------------------------------------------\u001b[0m",
      "\u001b[0;31mNameError\u001b[0m                                 Traceback (most recent call last)",
      "Cell \u001b[0;32mIn[2], line 2\u001b[0m\n\u001b[1;32m      1\u001b[0m \u001b[38;5;28mprint\u001b[39m(\u001b[38;5;124m'\u001b[39m\u001b[38;5;124mres aa helix\u001b[39m\u001b[38;5;124m'\u001b[39m)\n\u001b[0;32m----> 2\u001b[0m \u001b[38;5;28;01mfor\u001b[39;00m i, aa \u001b[38;5;129;01min\u001b[39;00m \u001b[38;5;28menumerate\u001b[39m(\u001b[43mresult\u001b[49m\u001b[38;5;241m.\u001b[39mget_sequence()):\n\u001b[1;32m      3\u001b[0m     \u001b[38;5;28mprint\u001b[39m(\u001b[38;5;124mf\u001b[39m\u001b[38;5;124m'\u001b[39m\u001b[38;5;132;01m{\u001b[39;00mi\u001b[38;5;241m+\u001b[39m\u001b[38;5;241m1\u001b[39m\u001b[38;5;132;01m}\u001b[39;00m\u001b[38;5;124m \u001b[39m\u001b[38;5;132;01m{\u001b[39;00maa\u001b[38;5;132;01m}\u001b[39;00m\u001b[38;5;124m \u001b[39m\u001b[38;5;132;01m{\u001b[39;00mresult\u001b[38;5;241m.\u001b[39mget_helical_propensity()[i]\u001b[38;5;241m*\u001b[39m\u001b[38;5;241m100\u001b[39m\u001b[38;5;132;01m:\u001b[39;00m\u001b[38;5;124m.2f\u001b[39m\u001b[38;5;132;01m}\u001b[39;00m\u001b[38;5;124m'\u001b[39m)\n",
      "\u001b[0;31mNameError\u001b[0m: name 'result' is not defined"
     ]
    }
   ],
   "source": [
    "print('res aa helix')\n",
    "for i, aa in enumerate(result.get_sequence()):\n",
    "    print(f'{i+1} {aa} {result.get_helical_propensity()[i]*100:.2f}')"
   ]
  },
  {
   "cell_type": "code",
   "execution_count": 2,
   "metadata": {},
   "outputs": [
    {
     "name": "stdout",
     "output_type": "stream",
     "text": [
      "0.38\n",
      "[0.         0.57125393 0.57125393 0.57125393 0.57125393 0.        ]\n"
     ]
    }
   ],
   "source": [
    "model = AGADIR(method='1s')\n",
    "result = model.predict('AAAAAA', )\n",
    "print(result.get_percent_helix())\n",
    "print(result.get_helical_propensity())\n",
    "# print(result.get_helix_contributions())\n",
    "# print(result.get_initialized_params())"
   ]
  },
  {
   "cell_type": "code",
   "execution_count": 5,
   "metadata": {},
   "outputs": [
    {
     "name": "stdout",
     "output_type": "stream",
     "text": [
      "res aa helix\n",
      "1 I 0.00\n",
      "2 L 1.41\n",
      "3 K 2.57\n",
      "4 S 4.67\n",
      "5 L 30.91\n",
      "6 E 31.31\n",
      "7 E 31.68\n",
      "8 F 31.63\n",
      "9 L 30.95\n",
      "10 K 27.09\n",
      "11 V 22.97\n",
      "12 T 20.98\n",
      "13 L 14.91\n",
      "14 R 5.67\n",
      "15 S 3.40\n",
      "16 T 2.11\n",
      "17 R 1.05\n",
      "18 Q 0.00\n",
      "19 T 0.00\n"
     ]
    }
   ],
   "source": [
    "\n",
    "print('res aa helix')\n",
    "for i, aa in enumerate(result.get_sequence()):\n",
    "    print(f'{i+1} {aa} {result.get_helical_propensity()[i]*100:.2f}')\n",
    "\n"
   ]
  },
  {
   "cell_type": "code",
   "execution_count": 3,
   "metadata": {},
   "outputs": [
    {
     "data": {
      "text/plain": [
       "[1, 2, 3, 4, 5, 6]"
      ]
     },
     "execution_count": 3,
     "metadata": {},
     "output_type": "execute_result"
    }
   ],
   "source": [
    "i = 0\n",
    "j = 6\n",
    "[1,2,3,4,5,6][i:j]"
   ]
  },
  {
   "cell_type": "code",
   "execution_count": 3,
   "metadata": {},
   "outputs": [
    {
     "data": {
      "text/plain": [
       "1"
      ]
     },
     "execution_count": 3,
     "metadata": {},
     "output_type": "execute_result"
    }
   ],
   "source": [
    "[1,2,3,4,5,6][-0]"
   ]
  },
  {
   "cell_type": "code",
   "execution_count": 4,
   "metadata": {},
   "outputs": [
    {
     "data": {
      "text/plain": [
       "6"
      ]
     },
     "execution_count": 4,
     "metadata": {},
     "output_type": "execute_result"
    }
   ],
   "source": [
    "[1,2,3,4,5,6][6-1]"
   ]
  },
  {
   "cell_type": "code",
   "execution_count": 12,
   "metadata": {},
   "outputs": [
    {
     "data": {
      "text/plain": [
       "0.005745359877457099"
      ]
     },
     "execution_count": 12,
     "metadata": {},
     "output_type": "execute_result"
    }
   ],
   "source": [
    "result.K_tot"
   ]
  },
  {
   "cell_type": "code",
   "execution_count": 13,
   "metadata": {},
   "outputs": [
    {
     "data": {
      "text/plain": [
       "array([0.        , 0.00574536, 0.00574536, 0.00574536, 0.00574536,\n",
       "       0.        ])"
      ]
     },
     "execution_count": 13,
     "metadata": {},
     "output_type": "execute_result"
    }
   ],
   "source": [
    "result.K_tot_array"
   ]
  },
  {
   "cell_type": "code",
   "execution_count": 6,
   "metadata": {},
   "outputs": [
    {
     "data": {
      "text/plain": [
       "[{'dG_Helix': 3.81,\n",
       "  'dG_Int': 3.49,\n",
       "  'dG_Hbond': -0.0,\n",
       "  'dG_SD': -0.2,\n",
       "  'dG_nonH': 0.48000000000000004,\n",
       "  'dG_dipole': 0.03999999999999998,\n",
       "  'dG_N_dipole': 0.38,\n",
       "  'dG_C_dipole': -0.34,\n",
       "  'dG_i1_tot': 0.0,\n",
       "  'dG_i3_tot': -0.2,\n",
       "  'dG_i4_tot': 0,\n",
       "  'dG_Ncap': 0.4,\n",
       "  'dG_Ccap': 0.08},\n",
       " {'dG_Helix': 4.34,\n",
       "  'dG_Int': 3.6399999999999997,\n",
       "  'dG_Hbond': -0.0,\n",
       "  'dG_SD': -0.1,\n",
       "  'dG_nonH': 0.48000000000000004,\n",
       "  'dG_dipole': 0.32,\n",
       "  'dG_N_dipole': 0.24,\n",
       "  'dG_C_dipole': 0.08000000000000002,\n",
       "  'dG_i1_tot': 0.0,\n",
       "  'dG_i3_tot': -0.1,\n",
       "  'dG_i4_tot': 0,\n",
       "  'dG_Ncap': 0.4,\n",
       "  'dG_Ccap': 0.08},\n",
       " {'dG_Helix': 4.41,\n",
       "  'dG_Int': 3.83,\n",
       "  'dG_Hbond': -0.0,\n",
       "  'dG_SD': 0.05,\n",
       "  'dG_nonH': 0.08,\n",
       "  'dG_dipole': 0.45000000000000007,\n",
       "  'dG_N_dipole': -0.41000000000000003,\n",
       "  'dG_C_dipole': 0.8600000000000001,\n",
       "  'dG_i1_tot': 0.05,\n",
       "  'dG_i3_tot': 0.0,\n",
       "  'dG_i4_tot': 0,\n",
       "  'dG_Ncap': 0.0,\n",
       "  'dG_Ccap': 0.08},\n",
       " {'dG_Helix': 2.8400000000000003,\n",
       "  'dG_Int': 3.7800000000000002,\n",
       "  'dG_Hbond': -0.0,\n",
       "  'dG_SD': -0.25,\n",
       "  'dG_nonH': -0.92,\n",
       "  'dG_dipole': 0.2300000000000001,\n",
       "  'dG_N_dipole': -0.61,\n",
       "  'dG_C_dipole': 0.8400000000000001,\n",
       "  'dG_i1_tot': 0.05,\n",
       "  'dG_i3_tot': -0.3,\n",
       "  'dG_i4_tot': 0,\n",
       "  'dG_Ncap': -1.0,\n",
       "  'dG_Ccap': 0.08},\n",
       " {'dG_Helix': 4.16,\n",
       "  'dG_Int': 3.7800000000000002,\n",
       "  'dG_Hbond': -0.0,\n",
       "  'dG_SD': 0.05,\n",
       "  'dG_nonH': 0.4,\n",
       "  'dG_dipole': -0.06999999999999995,\n",
       "  'dG_N_dipole': -0.65,\n",
       "  'dG_C_dipole': 0.5800000000000001,\n",
       "  'dG_i1_tot': 0.05,\n",
       "  'dG_i3_tot': 0.0,\n",
       "  'dG_i4_tot': 0,\n",
       "  'dG_Ncap': 0.4,\n",
       "  'dG_Ccap': 0.0},\n",
       " {'dG_Helix': 3.4999999999999996,\n",
       "  'dG_Int': 3.59,\n",
       "  'dG_Hbond': -0.0,\n",
       "  'dG_SD': -0.1,\n",
       "  'dG_nonH': 0.0,\n",
       "  'dG_dipole': 0.009999999999999953,\n",
       "  'dG_N_dipole': 0.31999999999999995,\n",
       "  'dG_C_dipole': -0.31,\n",
       "  'dG_i1_tot': 0.0,\n",
       "  'dG_i3_tot': -0.1,\n",
       "  'dG_i4_tot': 0,\n",
       "  'dG_Ncap': -0.08,\n",
       "  'dG_Ccap': 0.08},\n",
       " {'dG_Helix': 3.63,\n",
       "  'dG_Int': 3.7600000000000002,\n",
       "  'dG_Hbond': -0.0,\n",
       "  'dG_SD': -0.25,\n",
       "  'dG_nonH': -0.16,\n",
       "  'dG_dipole': 0.28,\n",
       "  'dG_N_dipole': 0.64,\n",
       "  'dG_C_dipole': -0.36,\n",
       "  'dG_i1_tot': 0.0,\n",
       "  'dG_i3_tot': -0.25,\n",
       "  'dG_i4_tot': 0,\n",
       "  'dG_Ncap': -0.08,\n",
       "  'dG_Ccap': -0.08},\n",
       " {'dG_Helix': 4.380000000000001,\n",
       "  'dG_Int': 3.8600000000000003,\n",
       "  'dG_Hbond': -0.0,\n",
       "  'dG_SD': 0.0,\n",
       "  'dG_nonH': 0.48000000000000004,\n",
       "  'dG_dipole': 0.03999999999999998,\n",
       "  'dG_N_dipole': 0.38,\n",
       "  'dG_C_dipole': -0.34,\n",
       "  'dG_i1_tot': 0.0,\n",
       "  'dG_i3_tot': 0.0,\n",
       "  'dG_i4_tot': 0,\n",
       "  'dG_Ncap': 0.4,\n",
       "  'dG_Ccap': 0.08},\n",
       " {'dG_Helix': 4.07,\n",
       "  'dG_Int': 3.8600000000000003,\n",
       "  'dG_Hbond': -0.0,\n",
       "  'dG_SD': -0.2,\n",
       "  'dG_nonH': 0.30000000000000004,\n",
       "  'dG_dipole': 0.10999999999999999,\n",
       "  'dG_N_dipole': 0.43,\n",
       "  'dG_C_dipole': -0.32,\n",
       "  'dG_i1_tot': 0.0,\n",
       "  'dG_i3_tot': -0.2,\n",
       "  'dG_i4_tot': 0,\n",
       "  'dG_Ncap': 0.4,\n",
       "  'dG_Ccap': -0.1},\n",
       " {'dG_Helix': 3.7299999999999995,\n",
       "  'dG_Int': 3.7699999999999996,\n",
       "  'dG_Hbond': -0.0,\n",
       "  'dG_SD': 0.0,\n",
       "  'dG_nonH': -0.08,\n",
       "  'dG_dipole': 0.040000000000000036,\n",
       "  'dG_N_dipole': 0.4,\n",
       "  'dG_C_dipole': -0.36,\n",
       "  'dG_i1_tot': 0.0,\n",
       "  'dG_i3_tot': 0.0,\n",
       "  'dG_i4_tot': 0,\n",
       "  'dG_Ncap': 0.0,\n",
       "  'dG_Ccap': -0.08},\n",
       " {'dG_Helix': 4.27,\n",
       "  'dG_Int': 3.78,\n",
       "  'dG_Hbond': -0.0,\n",
       "  'dG_SD': 0.0,\n",
       "  'dG_nonH': 0.32,\n",
       "  'dG_dipole': 0.16999999999999998,\n",
       "  'dG_N_dipole': 0.44,\n",
       "  'dG_C_dipole': -0.27,\n",
       "  'dG_i1_tot': 0.0,\n",
       "  'dG_i3_tot': 0.0,\n",
       "  'dG_i4_tot': 0,\n",
       "  'dG_Ncap': 0.4,\n",
       "  'dG_Ccap': -0.08},\n",
       " {'dG_Helix': 3.1,\n",
       "  'dG_Int': 3.7800000000000002,\n",
       "  'dG_Hbond': -0.0,\n",
       "  'dG_SD': 0.0,\n",
       "  'dG_nonH': -0.75,\n",
       "  'dG_dipole': 0.07,\n",
       "  'dG_N_dipole': 0.33,\n",
       "  'dG_C_dipole': -0.26,\n",
       "  'dG_i1_tot': 0.0,\n",
       "  'dG_i3_tot': 0.0,\n",
       "  'dG_i4_tot': 0,\n",
       "  'dG_Ncap': -0.65,\n",
       "  'dG_Ccap': -0.1},\n",
       " {'dG_Helix': 4.39,\n",
       "  'dG_Int': 3.6499999999999995,\n",
       "  'dG_Hbond': -0.0,\n",
       "  'dG_SD': 0.25,\n",
       "  'dG_nonH': 0.4,\n",
       "  'dG_dipole': 0.08999999999999997,\n",
       "  'dG_N_dipole': 0.69,\n",
       "  'dG_C_dipole': -0.6,\n",
       "  'dG_i1_tot': 0.0,\n",
       "  'dG_i3_tot': 0.25,\n",
       "  'dG_i4_tot': 0,\n",
       "  'dG_Ncap': 0.4,\n",
       "  'dG_Ccap': 0.0},\n",
       " {'dG_Helix': 3.9999999999999996,\n",
       "  'dG_Int': 3.9099999999999997,\n",
       "  'dG_Hbond': -0.0,\n",
       "  'dG_SD': 0.0,\n",
       "  'dG_nonH': -0.08,\n",
       "  'dG_dipole': 0.16999999999999998,\n",
       "  'dG_N_dipole': 0.44,\n",
       "  'dG_C_dipole': -0.27,\n",
       "  'dG_i1_tot': 0.0,\n",
       "  'dG_i3_tot': 0.0,\n",
       "  'dG_i4_tot': 0,\n",
       "  'dG_Ncap': 0.0,\n",
       "  'dG_Ccap': -0.08}]"
      ]
     },
     "execution_count": 6,
     "metadata": {},
     "output_type": "execute_result"
    }
   ],
   "source": [
    "result.dG_dict_mat[5]"
   ]
  },
  {
   "cell_type": "code",
   "execution_count": 14,
   "metadata": {},
   "outputs": [
    {
     "name": "stdout",
     "output_type": "stream",
     "text": [
      "case 1\n",
      "case 1\n"
     ]
    },
    {
     "data": {
      "text/plain": [
       "0.308"
      ]
     },
     "execution_count": 14,
     "metadata": {},
     "output_type": "execute_result"
    }
   ],
   "source": [
    "model = AGADIR(method='1s')\n",
    "result = model.predict('TYQEKAAREVAMKKG')\n",
    "result.get_percent_helix()"
   ]
  },
  {
   "cell_type": "code",
   "execution_count": 17,
   "metadata": {},
   "outputs": [
    {
     "data": {
      "text/plain": [
       "[{'dG_Helix': 4.785,\n",
       "  'dG_Int': 6.470000000000001,\n",
       "  'dG_Hbond': -2.325,\n",
       "  'dG_SD': -0.6000000000000001,\n",
       "  'dG_nonH': 0.48000000000000004,\n",
       "  'dG_dipole': 0.7600000000000001,\n",
       "  'dG_N_dipole': 0.05000000000000002,\n",
       "  'dG_C_dipole': 0.7100000000000001,\n",
       "  'dG_i1_tot': 0.05,\n",
       "  'dG_i3_tot': -0.6000000000000001,\n",
       "  'dG_i4_tot': -0.04999999999999999,\n",
       "  'dG_Ncap': 0.4,\n",
       "  'dG_Ccap': 0.08},\n",
       " {'dG_Helix': 4.3149999999999995,\n",
       "  'dG_Int': 6.47,\n",
       "  'dG_Hbond': -2.325,\n",
       "  'dG_SD': -0.75,\n",
       "  'dG_nonH': 0.4,\n",
       "  'dG_dipole': 0.52,\n",
       "  'dG_N_dipole': 0.06,\n",
       "  'dG_C_dipole': 0.4600000000000001,\n",
       "  'dG_i1_tot': 0.05,\n",
       "  'dG_i3_tot': -0.4,\n",
       "  'dG_i4_tot': -0.4,\n",
       "  'dG_Ncap': 0.4,\n",
       "  'dG_Ccap': 0.0},\n",
       " {'dG_Helix': 3.124999999999999,\n",
       "  'dG_Int': 6.47,\n",
       "  'dG_Hbond': -2.325,\n",
       "  'dG_SD': -0.78,\n",
       "  'dG_nonH': 0.08,\n",
       "  'dG_dipole': -0.32000000000000006,\n",
       "  'dG_N_dipole': -0.17000000000000004,\n",
       "  'dG_C_dipole': -0.15,\n",
       "  'dG_i1_tot': 0.05,\n",
       "  'dG_i3_tot': -0.4,\n",
       "  'dG_i4_tot': -0.43000000000000005,\n",
       "  'dG_Ncap': 0.0,\n",
       "  'dG_Ccap': 0.08},\n",
       " {'dG_Helix': 1.535,\n",
       "  'dG_Int': 6.46,\n",
       "  'dG_Hbond': -2.325,\n",
       "  'dG_SD': -1.13,\n",
       "  'dG_nonH': -1.08,\n",
       "  'dG_dipole': -0.38999999999999996,\n",
       "  'dG_N_dipole': -0.33999999999999997,\n",
       "  'dG_C_dipole': -0.04999999999999999,\n",
       "  'dG_i1_tot': 0.05,\n",
       "  'dG_i3_tot': -0.65,\n",
       "  'dG_i4_tot': -0.53,\n",
       "  'dG_Ncap': -1.0,\n",
       "  'dG_Ccap': -0.08},\n",
       " {'dG_Helix': 4.034999999999999,\n",
       "  'dG_Int': 6.84,\n",
       "  'dG_Hbond': -2.325,\n",
       "  'dG_SD': -0.73,\n",
       "  'dG_nonH': 0.48000000000000004,\n",
       "  'dG_dipole': -0.23000000000000007,\n",
       "  'dG_N_dipole': -0.17000000000000004,\n",
       "  'dG_C_dipole': -0.060000000000000026,\n",
       "  'dG_i1_tot': 0.05,\n",
       "  'dG_i3_tot': -0.35,\n",
       "  'dG_i4_tot': -0.43000000000000005,\n",
       "  'dG_Ncap': 0.4,\n",
       "  'dG_Ccap': 0.08},\n",
       " {'dG_Helix': 3.464999999999999,\n",
       "  'dG_Int': 6.6899999999999995,\n",
       "  'dG_Hbond': -2.325,\n",
       "  'dG_SD': -0.8500000000000001,\n",
       "  'dG_nonH': -0.18,\n",
       "  'dG_dipole': 0.12999999999999995,\n",
       "  'dG_N_dipole': 0.31999999999999995,\n",
       "  'dG_C_dipole': -0.19,\n",
       "  'dG_i1_tot': 0.0,\n",
       "  'dG_i3_tot': -0.55,\n",
       "  'dG_i4_tot': -0.30000000000000004,\n",
       "  'dG_Ncap': -0.08,\n",
       "  'dG_Ccap': -0.1},\n",
       " {'dG_Helix': 3.635,\n",
       "  'dG_Int': 6.41,\n",
       "  'dG_Hbond': -2.325,\n",
       "  'dG_SD': -0.5,\n",
       "  'dG_nonH': -0.16,\n",
       "  'dG_dipole': 0.21000000000000008,\n",
       "  'dG_N_dipole': 0.8300000000000001,\n",
       "  'dG_C_dipole': -0.62,\n",
       "  'dG_i1_tot': 0.0,\n",
       "  'dG_i3_tot': -0.45,\n",
       "  'dG_i4_tot': -0.050000000000000044,\n",
       "  'dG_Ncap': -0.08,\n",
       "  'dG_Ccap': -0.08},\n",
       " {'dG_Helix': 4.795,\n",
       "  'dG_Int': 6.46,\n",
       "  'dG_Hbond': -2.325,\n",
       "  'dG_SD': 0.14999999999999997,\n",
       "  'dG_nonH': 0.32,\n",
       "  'dG_dipole': 0.18999999999999995,\n",
       "  'dG_N_dipole': 0.59,\n",
       "  'dG_C_dipole': -0.4,\n",
       "  'dG_i1_tot': 0.0,\n",
       "  'dG_i3_tot': -0.2,\n",
       "  'dG_i4_tot': 0.35,\n",
       "  'dG_Ncap': 0.4,\n",
       "  'dG_Ccap': -0.08},\n",
       " {'dG_Helix': 5.754999999999999,\n",
       "  'dG_Int': 6.84,\n",
       "  'dG_Hbond': -2.325,\n",
       "  'dG_SD': 0.55,\n",
       "  'dG_nonH': 0.30000000000000004,\n",
       "  'dG_dipole': 0.39,\n",
       "  'dG_N_dipole': 0.77,\n",
       "  'dG_C_dipole': -0.38,\n",
       "  'dG_i1_tot': 0.0,\n",
       "  'dG_i3_tot': -0.2,\n",
       "  'dG_i4_tot': 0.75,\n",
       "  'dG_Ncap': 0.4,\n",
       "  'dG_Ccap': -0.1},\n",
       " {'dG_Helix': 5.364999999999999,\n",
       "  'dG_Int': 6.749999999999999,\n",
       "  'dG_Hbond': -2.325,\n",
       "  'dG_SD': 0.95,\n",
       "  'dG_nonH': 0.0,\n",
       "  'dG_dipole': -0.009999999999999898,\n",
       "  'dG_N_dipole': 0.5900000000000001,\n",
       "  'dG_C_dipole': -0.6,\n",
       "  'dG_i1_tot': 0.0,\n",
       "  'dG_i3_tot': 0.25,\n",
       "  'dG_i4_tot': 0.7,\n",
       "  'dG_Ncap': 0.0,\n",
       "  'dG_Ccap': 0.0},\n",
       " {'dG_Helix': 5.234999999999999,\n",
       "  'dG_Int': 6.56,\n",
       "  'dG_Hbond': -2.325,\n",
       "  'dG_SD': 0.55,\n",
       "  'dG_nonH': 0.32,\n",
       "  'dG_dipole': 0.13,\n",
       "  'dG_N_dipole': 0.65,\n",
       "  'dG_C_dipole': -0.52,\n",
       "  'dG_i1_tot': 0.0,\n",
       "  'dG_i3_tot': 0.25,\n",
       "  'dG_i4_tot': 0.30000000000000004,\n",
       "  'dG_Ncap': 0.4,\n",
       "  'dG_Ccap': -0.08}]"
      ]
     },
     "execution_count": 17,
     "metadata": {},
     "output_type": "execute_result"
    }
   ],
   "source": [
    "result.dG_dict_mat[8]"
   ]
  },
  {
   "cell_type": "code",
   "execution_count": null,
   "metadata": {},
   "outputs": [],
   "source": []
  },
  {
   "cell_type": "code",
   "execution_count": 6,
   "metadata": {},
   "outputs": [],
   "source": [
    "model = AGADIR(method='1s')\n",
    "result = model.predict('ILKSLEEFLKVTLRSTRQT')"
   ]
  },
  {
   "cell_type": "code",
   "execution_count": 7,
   "metadata": {},
   "outputs": [
    {
     "data": {
      "text/plain": [
       "array([0.        , 0.0092098 , 0.01694966, 0.03162682, 0.29314396,\n",
       "       0.29863254, 0.30385508, 0.3068975 , 0.30417774, 0.29359725,\n",
       "       0.24265173, 0.19342206, 0.17600071, 0.11319138, 0.03893537,\n",
       "       0.02254033, 0.01372473, 0.00672205, 0.        ])"
      ]
     },
     "execution_count": 7,
     "metadata": {},
     "output_type": "execute_result"
    }
   ],
   "source": [
    "result.get_helical_propensity()"
   ]
  },
  {
   "cell_type": "code",
   "execution_count": 8,
   "metadata": {},
   "outputs": [
    {
     "data": {
      "text/plain": [
       "0.14"
      ]
     },
     "execution_count": 8,
     "metadata": {},
     "output_type": "execute_result"
    }
   ],
   "source": [
    "result.get_percent_helix()"
   ]
  },
  {
   "cell_type": "code",
   "execution_count": 5,
   "metadata": {},
   "outputs": [
    {
     "data": {
      "text/plain": [
       "[None,\n",
       " None,\n",
       " None,\n",
       " None,\n",
       " None,\n",
       " [{'dG_Helix': 1.0549999999999997,\n",
       "   'dG_Int': 2.76,\n",
       "   'dG_Hbond': -0.0,\n",
       "   'dG_SD': 0.0,\n",
       "   'dG_nonH': 0.48000000000000004,\n",
       "   'dG_dipole': 0.0,\n",
       "   'dG_N_dipole': 0.0,\n",
       "   'dG_C_dipole': 0.0,\n",
       "   'dG_i1_tot': 0.0,\n",
       "   'dG_i3_tot': 0.0,\n",
       "   'dG_i4_tot': 0,\n",
       "   'dG_Ncap': 0.4,\n",
       "   'dG_Ccap': 0.08}]]"
      ]
     },
     "execution_count": 5,
     "metadata": {},
     "output_type": "execute_result"
    }
   ],
   "source": [
    "result.dG_dict_mat"
   ]
  },
  {
   "cell_type": "code",
   "execution_count": null,
   "metadata": {},
   "outputs": [],
   "source": []
  },
  {
   "cell_type": "code",
   "execution_count": 6,
   "metadata": {},
   "outputs": [],
   "source": [
    "model = AGADIR(method='1s')\n",
    "result = model.predict('TYQEKAAREVAMKKG')"
   ]
  },
  {
   "cell_type": "code",
   "execution_count": 6,
   "metadata": {},
   "outputs": [
    {
     "data": {
      "text/plain": [
       "array([0.        , 0.61472475, 0.64670187, 0.72418318, 0.74460478,\n",
       "       0.74775882, 0.74832584, 0.73848751, 0.73307215, 0.7129725 ,\n",
       "       0.6833715 , 0.64183218, 0.58918298, 0.49901381, 0.10019442,\n",
       "       0.        ])"
      ]
     },
     "execution_count": 6,
     "metadata": {},
     "output_type": "execute_result"
    }
   ],
   "source": [
    "result.get_helical_propensity()"
   ]
  },
  {
   "cell_type": "code",
   "execution_count": 11,
   "metadata": {},
   "outputs": [
    {
     "data": {
      "text/plain": [
       "[None,\n",
       " None,\n",
       " None,\n",
       " None,\n",
       " None,\n",
       " [{'dG_Helix': 3.18,\n",
       "   'dG_Int': 3.7199999999999998,\n",
       "   'dG_Hbond': -0.0,\n",
       "   'dG_SD': -0.05,\n",
       "   'dG_nonH': -0.8,\n",
       "   'dG_dipole': 0.31,\n",
       "   'dG_N_dipole': 0.36,\n",
       "   'dG_C_dipole': -0.04999999999999999,\n",
       "   'dG_i1_tot': -0.05,\n",
       "   'dG_i3_tot': 0.0,\n",
       "   'dG_i4_tot': 0,\n",
       "   'dG_Ncap': -0.8,\n",
       "   'dG_Ccap': 0.0},\n",
       "  {'dG_Helix': 3.8699999999999997,\n",
       "   'dG_Int': 3.2499999999999996,\n",
       "   'dG_Hbond': -0.0,\n",
       "   'dG_SD': -0.05,\n",
       "   'dG_nonH': 0.4,\n",
       "   'dG_dipole': 0.27,\n",
       "   'dG_N_dipole': 0.25,\n",
       "   'dG_C_dipole': 0.020000000000000018,\n",
       "   'dG_i1_tot': -0.05,\n",
       "   'dG_i3_tot': 0.0,\n",
       "   'dG_i4_tot': 0,\n",
       "   'dG_Ncap': 0.4,\n",
       "   'dG_Ccap': 0.0},\n",
       "  {'dG_Helix': 3.26,\n",
       "   'dG_Int': 2.9299999999999997,\n",
       "   'dG_Hbond': -0.0,\n",
       "   'dG_SD': -0.05,\n",
       "   'dG_nonH': 0.4,\n",
       "   'dG_dipole': -0.020000000000000018,\n",
       "   'dG_N_dipole': 0.12,\n",
       "   'dG_C_dipole': -0.14,\n",
       "   'dG_i1_tot': -0.05,\n",
       "   'dG_i3_tot': 0.0,\n",
       "   'dG_i4_tot': 0,\n",
       "   'dG_Ncap': 0.5,\n",
       "   'dG_Ccap': -0.1},\n",
       "  {'dG_Helix': 3.05,\n",
       "   'dG_Int': 2.65,\n",
       "   'dG_Hbond': -0.0,\n",
       "   'dG_SD': 0.25,\n",
       "   'dG_nonH': 0.0,\n",
       "   'dG_dipole': 0.15000000000000013,\n",
       "   'dG_N_dipole': 0.8300000000000001,\n",
       "   'dG_C_dipole': -0.6799999999999999,\n",
       "   'dG_i1_tot': 0.0,\n",
       "   'dG_i3_tot': 0.25,\n",
       "   'dG_i4_tot': 0,\n",
       "   'dG_Ncap': -0.08,\n",
       "   'dG_Ccap': 0.08},\n",
       "  {'dG_Helix': 3.25,\n",
       "   'dG_Int': 2.84,\n",
       "   'dG_Hbond': -0.0,\n",
       "   'dG_SD': -0.05,\n",
       "   'dG_nonH': 0.08,\n",
       "   'dG_dipole': 0.38,\n",
       "   'dG_N_dipole': 0.25,\n",
       "   'dG_C_dipole': 0.13,\n",
       "   'dG_i1_tot': -0.05,\n",
       "   'dG_i3_tot': 0.0,\n",
       "   'dG_i4_tot': 0,\n",
       "   'dG_Ncap': 0.0,\n",
       "   'dG_Ccap': 0.08},\n",
       "  {'dG_Helix': 4.01,\n",
       "   'dG_Int': 3.35,\n",
       "   'dG_Hbond': -0.0,\n",
       "   'dG_SD': -0.05,\n",
       "   'dG_nonH': 0.4,\n",
       "   'dG_dipole': 0.31000000000000005,\n",
       "   'dG_N_dipole': 0.11000000000000001,\n",
       "   'dG_C_dipole': 0.2,\n",
       "   'dG_i1_tot': -0.05,\n",
       "   'dG_i3_tot': 0.0,\n",
       "   'dG_i4_tot': 0,\n",
       "   'dG_Ncap': 0.4,\n",
       "   'dG_Ccap': 0.0},\n",
       "  {'dG_Helix': 3.8200000000000003,\n",
       "   'dG_Int': 3.35,\n",
       "   'dG_Hbond': -0.0,\n",
       "   'dG_SD': -0.05,\n",
       "   'dG_nonH': 0.48000000000000004,\n",
       "   'dG_dipole': 0.03999999999999998,\n",
       "   'dG_N_dipole': -0.10000000000000003,\n",
       "   'dG_C_dipole': 0.14,\n",
       "   'dG_i1_tot': -0.05,\n",
       "   'dG_i3_tot': 0.0,\n",
       "   'dG_i4_tot': 0,\n",
       "   'dG_Ncap': 0.4,\n",
       "   'dG_Ccap': 0.08},\n",
       "  {'dG_Helix': 3.29,\n",
       "   'dG_Int': 3.5,\n",
       "   'dG_Hbond': -0.0,\n",
       "   'dG_SD': -0.15,\n",
       "   'dG_nonH': 0.0,\n",
       "   'dG_dipole': -0.06,\n",
       "   'dG_N_dipole': -0.26,\n",
       "   'dG_C_dipole': 0.2,\n",
       "   'dG_i1_tot': 0.0,\n",
       "   'dG_i3_tot': -0.15,\n",
       "   'dG_i4_tot': 0,\n",
       "   'dG_Ncap': 0.0,\n",
       "   'dG_Ccap': 0.0},\n",
       "  {'dG_Helix': 3.2999999999999994,\n",
       "   'dG_Int': 3.3099999999999996,\n",
       "   'dG_Hbond': -0.0,\n",
       "   'dG_SD': 0.0,\n",
       "   'dG_nonH': -0.08,\n",
       "   'dG_dipole': 0.06999999999999995,\n",
       "   'dG_N_dipole': 0.58,\n",
       "   'dG_C_dipole': -0.51,\n",
       "   'dG_i1_tot': 0.0,\n",
       "   'dG_i3_tot': 0.0,\n",
       "   'dG_i4_tot': 0,\n",
       "   'dG_Ncap': -0.08,\n",
       "   'dG_Ccap': 0.0},\n",
       "  {'dG_Helix': 3.35,\n",
       "   'dG_Int': 2.95,\n",
       "   'dG_Hbond': -0.0,\n",
       "   'dG_SD': 0.05,\n",
       "   'dG_nonH': 0.0,\n",
       "   'dG_dipole': 0.35,\n",
       "   'dG_N_dipole': 1.22,\n",
       "   'dG_C_dipole': -0.87,\n",
       "   'dG_i1_tot': 0.05,\n",
       "   'dG_i3_tot': 0.0,\n",
       "   'dG_i4_tot': 0,\n",
       "   'dG_Ncap': 0.4,\n",
       "   'dG_Ccap': -0.4}],\n",
       " [{'dG_Helix': 3.085,\n",
       "   'dG_Int': 4.33,\n",
       "   'dG_Hbond': -0.775,\n",
       "   'dG_SD': -0.05,\n",
       "   'dG_nonH': -0.8,\n",
       "   'dG_dipole': 0.38,\n",
       "   'dG_N_dipole': 0.36,\n",
       "   'dG_C_dipole': 0.020000000000000018,\n",
       "   'dG_i1_tot': -0.05,\n",
       "   'dG_i3_tot': 0.0,\n",
       "   'dG_i4_tot': 0.0,\n",
       "   'dG_Ncap': -0.8,\n",
       "   'dG_Ccap': 0.0},\n",
       "  {'dG_Helix': 3.445,\n",
       "   'dG_Int': 3.8599999999999994,\n",
       "   'dG_Hbond': -0.775,\n",
       "   'dG_SD': -0.05,\n",
       "   'dG_nonH': 0.30000000000000004,\n",
       "   'dG_dipole': 0.10999999999999999,\n",
       "   'dG_N_dipole': 0.25,\n",
       "   'dG_C_dipole': -0.14,\n",
       "   'dG_i1_tot': -0.05,\n",
       "   'dG_i3_tot': 0.0,\n",
       "   'dG_i4_tot': 0.0,\n",
       "   'dG_Ncap': 0.4,\n",
       "   'dG_Ccap': -0.1},\n",
       "  {'dG_Helix': 3.1449999999999996,\n",
       "   'dG_Int': 3.5999999999999996,\n",
       "   'dG_Hbond': -0.775,\n",
       "   'dG_SD': -0.2,\n",
       "   'dG_nonH': 0.58,\n",
       "   'dG_dipole': -0.05999999999999989,\n",
       "   'dG_N_dipole': 0.46,\n",
       "   'dG_C_dipole': -0.5199999999999999,\n",
       "   'dG_i1_tot': -0.05,\n",
       "   'dG_i3_tot': 0.25,\n",
       "   'dG_i4_tot': -0.4,\n",
       "   'dG_Ncap': 0.5,\n",
       "   'dG_Ccap': 0.08},\n",
       "  {'dG_Helix': 3.2449999999999997,\n",
       "   'dG_Int': 3.5999999999999996,\n",
       "   'dG_Hbond': -0.775,\n",
       "   'dG_SD': -0.09999999999999998,\n",
       "   'dG_nonH': 0.0,\n",
       "   'dG_dipole': 0.5200000000000001,\n",
       "   'dG_N_dipole': 0.6500000000000001,\n",
       "   'dG_C_dipole': -0.13,\n",
       "   'dG_i1_tot': -0.05,\n",
       "   'dG_i3_tot': 0.25,\n",
       "   'dG_i4_tot': -0.3,\n",
       "   'dG_Ncap': -0.08,\n",
       "   'dG_Ccap': 0.08},\n",
       "  {'dG_Helix': 3.535,\n",
       "   'dG_Int': 3.96,\n",
       "   'dG_Hbond': -0.775,\n",
       "   'dG_SD': -0.1,\n",
       "   'dG_nonH': 0.0,\n",
       "   'dG_dipole': 0.45,\n",
       "   'dG_N_dipole': 0.25,\n",
       "   'dG_C_dipole': 0.2,\n",
       "   'dG_i1_tot': -0.05,\n",
       "   'dG_i3_tot': 0.0,\n",
       "   'dG_i4_tot': -0.05,\n",
       "   'dG_Ncap': 0.0,\n",
       "   'dG_Ccap': 0.0},\n",
       "  {'dG_Helix': 3.865,\n",
       "   'dG_Int': 3.96,\n",
       "   'dG_Hbond': -0.775,\n",
       "   'dG_SD': -0.05,\n",
       "   'dG_nonH': 0.48000000000000004,\n",
       "   'dG_dipole': 0.25,\n",
       "   'dG_N_dipole': 0.11000000000000001,\n",
       "   'dG_C_dipole': 0.14,\n",
       "   'dG_i1_tot': -0.05,\n",
       "   'dG_i3_tot': 0.0,\n",
       "   'dG_i4_tot': 0.0,\n",
       "   'dG_Ncap': 0.4,\n",
       "   'dG_Ccap': 0.08},\n",
       "  {'dG_Helix': 3.3449999999999998,\n",
       "   'dG_Int': 4.17,\n",
       "   'dG_Hbond': -0.775,\n",
       "   'dG_SD': -0.30000000000000004,\n",
       "   'dG_nonH': 0.4,\n",
       "   'dG_dipole': -0.15000000000000002,\n",
       "   'dG_N_dipole': -0.10000000000000003,\n",
       "   'dG_C_dipole': -0.04999999999999999,\n",
       "   'dG_i1_tot': -0.05,\n",
       "   'dG_i3_tot': -0.15,\n",
       "   'dG_i4_tot': -0.1,\n",
       "   'dG_Ncap': 0.4,\n",
       "   'dG_Ccap': 0.0},\n",
       "  {'dG_Helix': 2.875,\n",
       "   'dG_Int': 4.26,\n",
       "   'dG_Hbond': -0.775,\n",
       "   'dG_SD': -0.48,\n",
       "   'dG_nonH': 0.0,\n",
       "   'dG_dipole': -0.13,\n",
       "   'dG_N_dipole': 0.21999999999999997,\n",
       "   'dG_C_dipole': -0.35,\n",
       "   'dG_i1_tot': 0.0,\n",
       "   'dG_i3_tot': -0.15,\n",
       "   'dG_i4_tot': -0.33,\n",
       "   'dG_Ncap': 0.0,\n",
       "   'dG_Ccap': 0.0},\n",
       "  {'dG_Helix': 2.9049999999999994,\n",
       "   'dG_Int': 4.069999999999999,\n",
       "   'dG_Hbond': -0.775,\n",
       "   'dG_SD': -0.09999999999999999,\n",
       "   'dG_nonH': -0.48000000000000004,\n",
       "   'dG_dipole': 0.19000000000000006,\n",
       "   'dG_N_dipole': 1.06,\n",
       "   'dG_C_dipole': -0.87,\n",
       "   'dG_i1_tot': 0.05,\n",
       "   'dG_i3_tot': 0.0,\n",
       "   'dG_i4_tot': -0.15,\n",
       "   'dG_Ncap': -0.08,\n",
       "   'dG_Ccap': -0.4}],\n",
       " [{'dG_Helix': 2.660000000000001,\n",
       "   'dG_Int': 4.94,\n",
       "   'dG_Hbond': -1.55,\n",
       "   'dG_SD': -0.05,\n",
       "   'dG_nonH': -0.9,\n",
       "   'dG_dipole': 0.21999999999999997,\n",
       "   'dG_N_dipole': 0.36,\n",
       "   'dG_C_dipole': -0.14,\n",
       "   'dG_i1_tot': -0.05,\n",
       "   'dG_i3_tot': 0.0,\n",
       "   'dG_i4_tot': 0.0,\n",
       "   'dG_Ncap': -0.8,\n",
       "   'dG_Ccap': -0.1},\n",
       "  {'dG_Helix': 3.1999999999999993,\n",
       "   'dG_Int': 4.529999999999999,\n",
       "   'dG_Hbond': -1.55,\n",
       "   'dG_SD': -0.2,\n",
       "   'dG_nonH': 0.48000000000000004,\n",
       "   'dG_dipole': -0.05999999999999994,\n",
       "   'dG_N_dipole': 0.45999999999999996,\n",
       "   'dG_C_dipole': -0.5199999999999999,\n",
       "   'dG_i1_tot': -0.05,\n",
       "   'dG_i3_tot': 0.25,\n",
       "   'dG_i4_tot': -0.4,\n",
       "   'dG_Ncap': 0.4,\n",
       "   'dG_Ccap': 0.08},\n",
       "  {'dG_Helix': 3.3600000000000003,\n",
       "   'dG_Int': 4.55,\n",
       "   'dG_Hbond': -1.55,\n",
       "   'dG_SD': -0.5499999999999999,\n",
       "   'dG_nonH': 0.58,\n",
       "   'dG_dipole': 0.33000000000000007,\n",
       "   'dG_N_dipole': 0.31000000000000005,\n",
       "   'dG_C_dipole': 0.01999999999999999,\n",
       "   'dG_i1_tot': -0.1,\n",
       "   'dG_i3_tot': 0.25,\n",
       "   'dG_i4_tot': -0.7,\n",
       "   'dG_Ncap': 0.5,\n",
       "   'dG_Ccap': 0.08},\n",
       "  {'dG_Helix': 3.66,\n",
       "   'dG_Int': 4.72,\n",
       "   'dG_Hbond': -1.55,\n",
       "   'dG_SD': -0.14999999999999997,\n",
       "   'dG_nonH': -0.08,\n",
       "   'dG_dipole': 0.7200000000000002,\n",
       "   'dG_N_dipole': 0.6500000000000001,\n",
       "   'dG_C_dipole': 0.07,\n",
       "   'dG_i1_tot': -0.05,\n",
       "   'dG_i3_tot': 0.25,\n",
       "   'dG_i4_tot': -0.35,\n",
       "   'dG_Ncap': -0.08,\n",
       "   'dG_Ccap': 0.0},\n",
       "  {'dG_Helix': 3.3900000000000006,\n",
       "   'dG_Int': 4.57,\n",
       "   'dG_Hbond': -1.55,\n",
       "   'dG_SD': -0.1,\n",
       "   'dG_nonH': 0.08,\n",
       "   'dG_dipole': 0.39,\n",
       "   'dG_N_dipole': 0.25,\n",
       "   'dG_C_dipole': 0.14,\n",
       "   'dG_i1_tot': -0.05,\n",
       "   'dG_i3_tot': 0.0,\n",
       "   'dG_i4_tot': -0.05,\n",
       "   'dG_Ncap': 0.0,\n",
       "   'dG_Ccap': 0.08},\n",
       "  {'dG_Helix': 3.3900000000000006,\n",
       "   'dG_Int': 4.78,\n",
       "   'dG_Hbond': -1.55,\n",
       "   'dG_SD': -0.30000000000000004,\n",
       "   'dG_nonH': 0.4,\n",
       "   'dG_dipole': 0.060000000000000026,\n",
       "   'dG_N_dipole': 0.11000000000000001,\n",
       "   'dG_C_dipole': -0.04999999999999999,\n",
       "   'dG_i1_tot': -0.05,\n",
       "   'dG_i3_tot': -0.15,\n",
       "   'dG_i4_tot': -0.1,\n",
       "   'dG_Ncap': 0.4,\n",
       "   'dG_Ccap': 0.0},\n",
       "  {'dG_Helix': 2.86,\n",
       "   'dG_Int': 4.93,\n",
       "   'dG_Hbond': -1.55,\n",
       "   'dG_SD': -0.6300000000000001,\n",
       "   'dG_nonH': 0.4,\n",
       "   'dG_dipole': -0.29,\n",
       "   'dG_N_dipole': 0.16999999999999998,\n",
       "   'dG_C_dipole': -0.45999999999999996,\n",
       "   'dG_i1_tot': -0.05,\n",
       "   'dG_i3_tot': -0.15,\n",
       "   'dG_i4_tot': -0.43000000000000005,\n",
       "   'dG_Ncap': 0.4,\n",
       "   'dG_Ccap': 0.0},\n",
       "  {'dG_Helix': 2.26,\n",
       "   'dG_Int': 5.02,\n",
       "   'dG_Hbond': -1.55,\n",
       "   'dG_SD': -0.58,\n",
       "   'dG_nonH': -0.4,\n",
       "   'dG_dipole': -0.22999999999999998,\n",
       "   'dG_N_dipole': 0.49,\n",
       "   'dG_C_dipole': -0.72,\n",
       "   'dG_i1_tot': 0.05,\n",
       "   'dG_i3_tot': -0.15,\n",
       "   'dG_i4_tot': -0.48,\n",
       "   'dG_Ncap': 0.0,\n",
       "   'dG_Ccap': -0.4}],\n",
       " [{'dG_Helix': 2.395,\n",
       "   'dG_Int': 5.61,\n",
       "   'dG_Hbond': -2.325,\n",
       "   'dG_SD': -0.2,\n",
       "   'dG_nonH': -0.7200000000000001,\n",
       "   'dG_dipole': 0.030000000000000138,\n",
       "   'dG_N_dipole': 0.55,\n",
       "   'dG_C_dipole': -0.5199999999999999,\n",
       "   'dG_i1_tot': -0.05,\n",
       "   'dG_i3_tot': 0.25,\n",
       "   'dG_i4_tot': -0.4,\n",
       "   'dG_Ncap': -0.8,\n",
       "   'dG_Ccap': 0.08},\n",
       "  {'dG_Helix': 3.4349999999999996,\n",
       "   'dG_Int': 5.4799999999999995,\n",
       "   'dG_Hbond': -2.325,\n",
       "   'dG_SD': -0.5499999999999999,\n",
       "   'dG_nonH': 0.48000000000000004,\n",
       "   'dG_dipole': 0.35,\n",
       "   'dG_N_dipole': 0.32999999999999996,\n",
       "   'dG_C_dipole': 0.01999999999999999,\n",
       "   'dG_i1_tot': -0.1,\n",
       "   'dG_i3_tot': 0.25,\n",
       "   'dG_i4_tot': -0.7,\n",
       "   'dG_Ncap': 0.4,\n",
       "   'dG_Ccap': 0.08},\n",
       "  {'dG_Helix': 3.755,\n",
       "   'dG_Int': 5.67,\n",
       "   'dG_Hbond': -2.325,\n",
       "   'dG_SD': -0.6,\n",
       "   'dG_nonH': 0.5,\n",
       "   'dG_dipole': 0.51,\n",
       "   'dG_N_dipole': 0.31000000000000005,\n",
       "   'dG_C_dipole': 0.2,\n",
       "   'dG_i1_tot': -0.1,\n",
       "   'dG_i3_tot': 0.25,\n",
       "   'dG_i4_tot': -0.75,\n",
       "   'dG_Ncap': 0.5,\n",
       "   'dG_Ccap': 0.0},\n",
       "  {'dG_Helix': 3.5250000000000004,\n",
       "   'dG_Int': 5.33,\n",
       "   'dG_Hbond': -2.325,\n",
       "   'dG_SD': -0.14999999999999997,\n",
       "   'dG_nonH': 0.0,\n",
       "   'dG_dipole': 0.6700000000000002,\n",
       "   'dG_N_dipole': 0.6500000000000001,\n",
       "   'dG_C_dipole': 0.020000000000000018,\n",
       "   'dG_i1_tot': -0.05,\n",
       "   'dG_i3_tot': 0.25,\n",
       "   'dG_i4_tot': -0.35,\n",
       "   'dG_Ncap': -0.08,\n",
       "   'dG_Ccap': 0.08},\n",
       "  {'dG_Helix': 2.9150000000000005,\n",
       "   'dG_Int': 5.390000000000001,\n",
       "   'dG_Hbond': -2.325,\n",
       "   'dG_SD': -0.35000000000000003,\n",
       "   'dG_nonH': 0.0,\n",
       "   'dG_dipole': 0.2,\n",
       "   'dG_N_dipole': 0.25,\n",
       "   'dG_C_dipole': -0.04999999999999999,\n",
       "   'dG_i1_tot': -0.05,\n",
       "   'dG_i3_tot': -0.15,\n",
       "   'dG_i4_tot': -0.15000000000000002,\n",
       "   'dG_Ncap': 0.0,\n",
       "   'dG_Ccap': 0.0},\n",
       "  {'dG_Helix': 2.875,\n",
       "   'dG_Int': 5.54,\n",
       "   'dG_Hbond': -2.325,\n",
       "   'dG_SD': -0.6300000000000001,\n",
       "   'dG_nonH': 0.4,\n",
       "   'dG_dipole': -0.10999999999999999,\n",
       "   'dG_N_dipole': 0.35,\n",
       "   'dG_C_dipole': -0.45999999999999996,\n",
       "   'dG_i1_tot': -0.05,\n",
       "   'dG_i3_tot': -0.15,\n",
       "   'dG_i4_tot': -0.43000000000000005,\n",
       "   'dG_Ncap': 0.4,\n",
       "   'dG_Ccap': 0.0},\n",
       "  {'dG_Helix': 2.2349999999999994,\n",
       "   'dG_Int': 5.6899999999999995,\n",
       "   'dG_Hbond': -2.325,\n",
       "   'dG_SD': -0.7300000000000001,\n",
       "   'dG_nonH': 0.0,\n",
       "   'dG_dipole': -0.39999999999999997,\n",
       "   'dG_N_dipole': 0.41,\n",
       "   'dG_C_dipole': -0.8099999999999999,\n",
       "   'dG_i1_tot': 0.0,\n",
       "   'dG_i3_tot': -0.15,\n",
       "   'dG_i4_tot': -0.5800000000000001,\n",
       "   'dG_Ncap': 0.4,\n",
       "   'dG_Ccap': -0.4}],\n",
       " [{'dG_Helix': 2.6400000000000006,\n",
       "   'dG_Int': 6.5600000000000005,\n",
       "   'dG_Hbond': -3.1,\n",
       "   'dG_SD': -0.5499999999999999,\n",
       "   'dG_nonH': -0.7200000000000001,\n",
       "   'dG_dipole': 0.45000000000000007,\n",
       "   'dG_N_dipole': 0.43000000000000005,\n",
       "   'dG_C_dipole': 0.01999999999999999,\n",
       "   'dG_i1_tot': -0.1,\n",
       "   'dG_i3_tot': 0.25,\n",
       "   'dG_i4_tot': -0.7,\n",
       "   'dG_Ncap': -0.8,\n",
       "   'dG_Ccap': 0.08},\n",
       "  {'dG_Helix': 3.829999999999999,\n",
       "   'dG_Int': 6.6,\n",
       "   'dG_Hbond': -3.1,\n",
       "   'dG_SD': -0.6,\n",
       "   'dG_nonH': 0.4,\n",
       "   'dG_dipole': 0.53,\n",
       "   'dG_N_dipole': 0.32999999999999996,\n",
       "   'dG_C_dipole': 0.2,\n",
       "   'dG_i1_tot': -0.1,\n",
       "   'dG_i3_tot': 0.25,\n",
       "   'dG_i4_tot': -0.75,\n",
       "   'dG_Ncap': 0.4,\n",
       "   'dG_Ccap': 0.0},\n",
       "  {'dG_Helix': 3.5900000000000003,\n",
       "   'dG_Int': 6.28,\n",
       "   'dG_Hbond': -3.1,\n",
       "   'dG_SD': -0.6,\n",
       "   'dG_nonH': 0.58,\n",
       "   'dG_dipole': 0.43000000000000005,\n",
       "   'dG_N_dipole': 0.31000000000000005,\n",
       "   'dG_C_dipole': 0.12000000000000002,\n",
       "   'dG_i1_tot': -0.1,\n",
       "   'dG_i3_tot': 0.25,\n",
       "   'dG_i4_tot': -0.75,\n",
       "   'dG_Ncap': 0.5,\n",
       "   'dG_Ccap': 0.08},\n",
       "  {'dG_Helix': 3.0700000000000003,\n",
       "   'dG_Int': 6.15,\n",
       "   'dG_Hbond': -3.1,\n",
       "   'dG_SD': -0.39999999999999997,\n",
       "   'dG_nonH': -0.08,\n",
       "   'dG_dipole': 0.5000000000000001,\n",
       "   'dG_N_dipole': 0.6500000000000001,\n",
       "   'dG_C_dipole': -0.15,\n",
       "   'dG_i1_tot': -0.05,\n",
       "   'dG_i3_tot': 0.1,\n",
       "   'dG_i4_tot': -0.44999999999999996,\n",
       "   'dG_Ncap': -0.08,\n",
       "   'dG_Ccap': 0.0},\n",
       "  {'dG_Helix': 2.3600000000000003,\n",
       "   'dG_Int': 6.15,\n",
       "   'dG_Hbond': -3.1,\n",
       "   'dG_SD': -0.68,\n",
       "   'dG_nonH': 0.0,\n",
       "   'dG_dipole': -0.009999999999999953,\n",
       "   'dG_N_dipole': 0.45,\n",
       "   'dG_C_dipole': -0.45999999999999996,\n",
       "   'dG_i1_tot': -0.05,\n",
       "   'dG_i3_tot': -0.15,\n",
       "   'dG_i4_tot': -0.48000000000000004,\n",
       "   'dG_Ncap': 0.0,\n",
       "   'dG_Ccap': 0.0},\n",
       "  {'dG_Helix': 2.21,\n",
       "   'dG_Int': 6.3,\n",
       "   'dG_Hbond': -3.1,\n",
       "   'dG_SD': -0.7300000000000001,\n",
       "   'dG_nonH': 0.0,\n",
       "   'dG_dipole': -0.2599999999999999,\n",
       "   'dG_N_dipole': 0.55,\n",
       "   'dG_C_dipole': -0.8099999999999999,\n",
       "   'dG_i1_tot': 0.0,\n",
       "   'dG_i3_tot': -0.15,\n",
       "   'dG_i4_tot': -0.5800000000000001,\n",
       "   'dG_Ncap': 0.4,\n",
       "   'dG_Ccap': -0.4}],\n",
       " [{'dG_Helix': 3.035,\n",
       "   'dG_Int': 7.680000000000001,\n",
       "   'dG_Hbond': -3.875,\n",
       "   'dG_SD': -0.6,\n",
       "   'dG_nonH': -0.8,\n",
       "   'dG_dipole': 0.6300000000000001,\n",
       "   'dG_N_dipole': 0.43000000000000005,\n",
       "   'dG_C_dipole': 0.2,\n",
       "   'dG_i1_tot': -0.1,\n",
       "   'dG_i3_tot': 0.25,\n",
       "   'dG_i4_tot': -0.75,\n",
       "   'dG_Ncap': -0.8,\n",
       "   'dG_Ccap': 0.0},\n",
       "  {'dG_Helix': 3.665,\n",
       "   'dG_Int': 7.21,\n",
       "   'dG_Hbond': -3.875,\n",
       "   'dG_SD': -0.6,\n",
       "   'dG_nonH': 0.48000000000000004,\n",
       "   'dG_dipole': 0.44999999999999996,\n",
       "   'dG_N_dipole': 0.32999999999999996,\n",
       "   'dG_C_dipole': 0.12000000000000002,\n",
       "   'dG_i1_tot': -0.1,\n",
       "   'dG_i3_tot': 0.25,\n",
       "   'dG_i4_tot': -0.75,\n",
       "   'dG_Ncap': 0.4,\n",
       "   'dG_Ccap': 0.08},\n",
       "  {'dG_Helix': 3.1250000000000004,\n",
       "   'dG_Int': 7.1000000000000005,\n",
       "   'dG_Hbond': -3.875,\n",
       "   'dG_SD': -0.85,\n",
       "   'dG_nonH': 0.5,\n",
       "   'dG_dipole': 0.25000000000000006,\n",
       "   'dG_N_dipole': 0.31000000000000005,\n",
       "   'dG_C_dipole': -0.06,\n",
       "   'dG_i1_tot': -0.1,\n",
       "   'dG_i3_tot': 0.1,\n",
       "   'dG_i4_tot': -0.85,\n",
       "   'dG_Ncap': 0.5,\n",
       "   'dG_Ccap': 0.0},\n",
       "  {'dG_Helix': 2.5050000000000003,\n",
       "   'dG_Int': 6.91,\n",
       "   'dG_Hbond': -3.875,\n",
       "   'dG_SD': -0.73,\n",
       "   'dG_nonH': -0.08,\n",
       "   'dG_dipole': 0.28000000000000014,\n",
       "   'dG_N_dipole': 0.8300000000000001,\n",
       "   'dG_C_dipole': -0.5499999999999999,\n",
       "   'dG_i1_tot': -0.05,\n",
       "   'dG_i3_tot': 0.1,\n",
       "   'dG_i4_tot': -0.78,\n",
       "   'dG_Ncap': -0.08,\n",
       "   'dG_Ccap': 0.0},\n",
       "  {'dG_Helix': 1.675,\n",
       "   'dG_Int': 6.91,\n",
       "   'dG_Hbond': -3.875,\n",
       "   'dG_SD': -0.78,\n",
       "   'dG_nonH': -0.4,\n",
       "   'dG_dipole': -0.17999999999999994,\n",
       "   'dG_N_dipole': 0.63,\n",
       "   'dG_C_dipole': -0.8099999999999999,\n",
       "   'dG_i1_tot': 0.0,\n",
       "   'dG_i3_tot': -0.15,\n",
       "   'dG_i4_tot': -0.63,\n",
       "   'dG_Ncap': 0.0,\n",
       "   'dG_Ccap': -0.4}],\n",
       " [{'dG_Helix': 2.87,\n",
       "   'dG_Int': 8.290000000000001,\n",
       "   'dG_Hbond': -4.65,\n",
       "   'dG_SD': -0.6,\n",
       "   'dG_nonH': -0.7200000000000001,\n",
       "   'dG_dipole': 0.55,\n",
       "   'dG_N_dipole': 0.43000000000000005,\n",
       "   'dG_C_dipole': 0.12000000000000002,\n",
       "   'dG_i1_tot': -0.1,\n",
       "   'dG_i3_tot': 0.25,\n",
       "   'dG_i4_tot': -0.75,\n",
       "   'dG_Ncap': -0.8,\n",
       "   'dG_Ccap': 0.08},\n",
       "  {'dG_Helix': 3.199999999999999,\n",
       "   'dG_Int': 8.03,\n",
       "   'dG_Hbond': -4.65,\n",
       "   'dG_SD': -0.85,\n",
       "   'dG_nonH': 0.4,\n",
       "   'dG_dipole': 0.26999999999999996,\n",
       "   'dG_N_dipole': 0.32999999999999996,\n",
       "   'dG_C_dipole': -0.06,\n",
       "   'dG_i1_tot': -0.1,\n",
       "   'dG_i3_tot': 0.1,\n",
       "   'dG_i4_tot': -0.85,\n",
       "   'dG_Ncap': 0.4,\n",
       "   'dG_Ccap': 0.0},\n",
       "  {'dG_Helix': 2.47,\n",
       "   'dG_Int': 7.86,\n",
       "   'dG_Hbond': -4.65,\n",
       "   'dG_SD': -1.18,\n",
       "   'dG_nonH': 0.5,\n",
       "   'dG_dipole': -0.05999999999999989,\n",
       "   'dG_N_dipole': 0.42000000000000004,\n",
       "   'dG_C_dipole': -0.4799999999999999,\n",
       "   'dG_i1_tot': -0.1,\n",
       "   'dG_i3_tot': 0.1,\n",
       "   'dG_i4_tot': -1.18,\n",
       "   'dG_Ncap': 0.5,\n",
       "   'dG_Ccap': 0.0},\n",
       "  {'dG_Helix': 1.7599999999999998,\n",
       "   'dG_Int': 7.67,\n",
       "   'dG_Hbond': -4.65,\n",
       "   'dG_SD': -0.8300000000000001,\n",
       "   'dG_nonH': -0.48000000000000004,\n",
       "   'dG_dipole': 0.050000000000000155,\n",
       "   'dG_N_dipole': 0.9400000000000001,\n",
       "   'dG_C_dipole': -0.8899999999999999,\n",
       "   'dG_i1_tot': 0.0,\n",
       "   'dG_i3_tot': 0.1,\n",
       "   'dG_i4_tot': -0.93,\n",
       "   'dG_Ncap': -0.08,\n",
       "   'dG_Ccap': -0.4}],\n",
       " [{'dG_Helix': 2.405000000000001,\n",
       "   'dG_Int': 9.110000000000001,\n",
       "   'dG_Hbond': -5.425,\n",
       "   'dG_SD': -0.85,\n",
       "   'dG_nonH': -0.8,\n",
       "   'dG_dipole': 0.37000000000000005,\n",
       "   'dG_N_dipole': 0.43000000000000005,\n",
       "   'dG_C_dipole': -0.06,\n",
       "   'dG_i1_tot': -0.1,\n",
       "   'dG_i3_tot': 0.1,\n",
       "   'dG_i4_tot': -0.85,\n",
       "   'dG_Ncap': -0.8,\n",
       "   'dG_Ccap': 0.0},\n",
       "  {'dG_Helix': 2.4349999999999996,\n",
       "   'dG_Int': 8.79,\n",
       "   'dG_Hbond': -5.425,\n",
       "   'dG_SD': -1.18,\n",
       "   'dG_nonH': 0.4,\n",
       "   'dG_dipole': -0.14999999999999997,\n",
       "   'dG_N_dipole': 0.32999999999999996,\n",
       "   'dG_C_dipole': -0.4799999999999999,\n",
       "   'dG_i1_tot': -0.1,\n",
       "   'dG_i3_tot': 0.1,\n",
       "   'dG_i4_tot': -1.18,\n",
       "   'dG_Ncap': 0.4,\n",
       "   'dG_Ccap': 0.0},\n",
       "  {'dG_Helix': 1.5450000000000017,\n",
       "   'dG_Int': 8.620000000000001,\n",
       "   'dG_Hbond': -5.425,\n",
       "   'dG_SD': -1.2799999999999998,\n",
       "   'dG_nonH': 0.09999999999999998,\n",
       "   'dG_dipole': -0.46999999999999986,\n",
       "   'dG_N_dipole': 0.42000000000000004,\n",
       "   'dG_C_dipole': -0.8899999999999999,\n",
       "   'dG_i1_tot': -0.05,\n",
       "   'dG_i3_tot': 0.1,\n",
       "   'dG_i4_tot': -1.3299999999999998,\n",
       "   'dG_Ncap': 0.5,\n",
       "   'dG_Ccap': -0.4}],\n",
       " [{'dG_Helix': 1.6400000000000012,\n",
       "   'dG_Int': 9.870000000000001,\n",
       "   'dG_Hbond': -6.2,\n",
       "   'dG_SD': -1.18,\n",
       "   'dG_nonH': -0.8,\n",
       "   'dG_dipole': -0.04999999999999988,\n",
       "   'dG_N_dipole': 0.43000000000000005,\n",
       "   'dG_C_dipole': -0.4799999999999999,\n",
       "   'dG_i1_tot': -0.1,\n",
       "   'dG_i3_tot': 0.1,\n",
       "   'dG_i4_tot': -1.18,\n",
       "   'dG_Ncap': -0.8,\n",
       "   'dG_Ccap': 0.0},\n",
       "  {'dG_Helix': 1.509999999999999,\n",
       "   'dG_Int': 9.549999999999999,\n",
       "   'dG_Hbond': -6.2,\n",
       "   'dG_SD': -1.2799999999999998,\n",
       "   'dG_nonH': 0.0,\n",
       "   'dG_dipole': -0.5599999999999999,\n",
       "   'dG_N_dipole': 0.32999999999999996,\n",
       "   'dG_C_dipole': -0.8899999999999999,\n",
       "   'dG_i1_tot': -0.05,\n",
       "   'dG_i3_tot': 0.1,\n",
       "   'dG_i4_tot': -1.3299999999999998,\n",
       "   'dG_Ncap': 0.4,\n",
       "   'dG_Ccap': -0.4}],\n",
       " [{'dG_Helix': 0.7150000000000004,\n",
       "   'dG_Int': 10.63,\n",
       "   'dG_Hbond': -6.9750000000000005,\n",
       "   'dG_SD': -1.2799999999999998,\n",
       "   'dG_nonH': -1.2000000000000002,\n",
       "   'dG_dipole': -0.45999999999999985,\n",
       "   'dG_N_dipole': 0.43000000000000005,\n",
       "   'dG_C_dipole': -0.8899999999999999,\n",
       "   'dG_i1_tot': -0.05,\n",
       "   'dG_i3_tot': 0.1,\n",
       "   'dG_i4_tot': -1.3299999999999998,\n",
       "   'dG_Ncap': -0.8,\n",
       "   'dG_Ccap': -0.4}]]"
      ]
     },
     "execution_count": 11,
     "metadata": {},
     "output_type": "execute_result"
    }
   ],
   "source": [
    "result.dG_dict_mat"
   ]
  },
  {
   "cell_type": "code",
   "execution_count": null,
   "metadata": {},
   "outputs": [],
   "source": []
  },
  {
   "cell_type": "code",
   "execution_count": 8,
   "metadata": {},
   "outputs": [
    {
     "data": {
      "text/plain": [
       "array([0.        , 0.09806659, 0.16603706, 0.16603706, 0.16603706,\n",
       "       0.12516675, 0.        ])"
      ]
     },
     "execution_count": 8,
     "metadata": {},
     "output_type": "execute_result"
    }
   ],
   "source": [
    "result.K_tot_array"
   ]
  },
  {
   "cell_type": "code",
   "execution_count": 5,
   "metadata": {},
   "outputs": [
    {
     "data": {
      "text/plain": [
       "array([1.        , 1.03169215, 1.03169215, 1.03169215, 1.03169215,\n",
       "       1.        ])"
      ]
     },
     "execution_count": 5,
     "metadata": {},
     "output_type": "execute_result"
    }
   ],
   "source": [
    "result.Z_array"
   ]
  },
  {
   "cell_type": "code",
   "execution_count": 9,
   "metadata": {},
   "outputs": [],
   "source": [
    "model = AGADIR(method='r')\n",
    "result = model.predict('AAKAAAAKAAAAKAA')"
   ]
  },
  {
   "cell_type": "code",
   "execution_count": 10,
   "metadata": {},
   "outputs": [
    {
     "data": {
      "text/plain": [
       "0.234"
      ]
     },
     "execution_count": 10,
     "metadata": {},
     "output_type": "execute_result"
    }
   ],
   "source": [
    "result.get_percent_helix()"
   ]
  },
  {
   "cell_type": "code",
   "execution_count": 11,
   "metadata": {},
   "outputs": [
    {
     "data": {
      "text/plain": [
       "array([0.        , 0.11644912, 0.17631828, 0.29103264, 0.316181  ,\n",
       "       0.32869889, 0.33932185, 0.33766947, 0.34087793, 0.32934614,\n",
       "       0.3085242 , 0.27596996, 0.22545317, 0.1286643 , 0.        ])"
      ]
     },
     "execution_count": 11,
     "metadata": {},
     "output_type": "execute_result"
    }
   ],
   "source": [
    "result.get_helical_propensity()"
   ]
  },
  {
   "cell_type": "code",
   "execution_count": null,
   "metadata": {},
   "outputs": [],
   "source": []
  },
  {
   "cell_type": "code",
   "execution_count": 5,
   "metadata": {},
   "outputs": [],
   "source": [
    "model = AGADIR(method='r')\n",
    "result = model.predict('AAKAAAAKAAAAKAAAAKAA')"
   ]
  },
  {
   "cell_type": "code",
   "execution_count": 6,
   "metadata": {},
   "outputs": [
    {
     "data": {
      "text/plain": [
       "0.694"
      ]
     },
     "execution_count": 6,
     "metadata": {},
     "output_type": "execute_result"
    }
   ],
   "source": [
    "result.get_percent_helix()"
   ]
  },
  {
   "cell_type": "code",
   "execution_count": null,
   "metadata": {},
   "outputs": [],
   "source": []
  },
  {
   "cell_type": "code",
   "execution_count": 7,
   "metadata": {},
   "outputs": [],
   "source": [
    "model = AGADIR(method='r')\n",
    "result = model.predict('AAKAAAAKAAAAKAAAAKAAAAKAA')"
   ]
  },
  {
   "cell_type": "code",
   "execution_count": 8,
   "metadata": {},
   "outputs": [
    {
     "data": {
      "text/plain": [
       "0.83"
      ]
     },
     "execution_count": 8,
     "metadata": {},
     "output_type": "execute_result"
    }
   ],
   "source": [
    "result.get_percent_helix()"
   ]
  },
  {
   "cell_type": "code",
   "execution_count": null,
   "metadata": {},
   "outputs": [],
   "source": []
  },
  {
   "cell_type": "code",
   "execution_count": 9,
   "metadata": {},
   "outputs": [],
   "source": [
    "model = AGADIR(method='r')\n",
    "result = model.predict('AAKAAAAKAAAAKAAAAKAAAAKAAAAKAAAAKAAAAKAA')"
   ]
  },
  {
   "cell_type": "code",
   "execution_count": 10,
   "metadata": {},
   "outputs": [
    {
     "data": {
      "text/plain": [
       "0.924"
      ]
     },
     "execution_count": 10,
     "metadata": {},
     "output_type": "execute_result"
    }
   ],
   "source": [
    "result.get_percent_helix()"
   ]
  },
  {
   "cell_type": "code",
   "execution_count": null,
   "metadata": {},
   "outputs": [],
   "source": []
  },
  {
   "cell_type": "code",
   "execution_count": 11,
   "metadata": {},
   "outputs": [],
   "source": [
    "model = AGADIR(method='r')\n",
    "result = model.predict('AAKAAAAKAAAAKAAAAKAAAAKAAAAKAAAAKAAAAKAAAAKAAAAKAA')"
   ]
  },
  {
   "cell_type": "code",
   "execution_count": 12,
   "metadata": {},
   "outputs": [
    {
     "data": {
      "text/plain": [
       "0.94"
      ]
     },
     "execution_count": 12,
     "metadata": {},
     "output_type": "execute_result"
    }
   ],
   "source": [
    "result.get_percent_helix()"
   ]
  },
  {
   "cell_type": "code",
   "execution_count": null,
   "metadata": {},
   "outputs": [],
   "source": []
  },
  {
   "cell_type": "markdown",
   "metadata": {},
   "source": [
    "## Capping"
   ]
  },
  {
   "cell_type": "code",
   "execution_count": 12,
   "metadata": {},
   "outputs": [
    {
     "name": "stdout",
     "output_type": "stream",
     "text": [
      "case 3\n"
     ]
    },
    {
     "data": {
      "text/plain": [
       "0.033"
      ]
     },
     "execution_count": 12,
     "metadata": {},
     "output_type": "execute_result"
    }
   ],
   "source": [
    "model = AGADIR(method='1s')\n",
    "result = model.predict('AAQAAAAQAA')\n",
    "result.get_percent_helix()"
   ]
  },
  {
   "cell_type": "code",
   "execution_count": 6,
   "metadata": {},
   "outputs": [
    {
     "data": {
      "text/plain": [
       "0.43973768430365523"
      ]
     },
     "execution_count": 6,
     "metadata": {},
     "output_type": "execute_result"
    }
   ],
   "source": [
    "np.mean(model.result.get_helical_propensity()[1:-1])"
   ]
  },
  {
   "cell_type": "code",
   "execution_count": 5,
   "metadata": {},
   "outputs": [
    {
     "data": {
      "text/plain": [
       "array([0.        , 0.24831878, 0.46068257, 0.64587326, 0.75109069,\n",
       "       0.75109069, 0.64587326, 0.4370944 , 0.23477017, 0.        ])"
      ]
     },
     "execution_count": 5,
     "metadata": {},
     "output_type": "execute_result"
    }
   ],
   "source": [
    "result.get_helical_propensity()"
   ]
  },
  {
   "cell_type": "code",
   "execution_count": 13,
   "metadata": {},
   "outputs": [
    {
     "data": {
      "text/plain": [
       "0.025"
      ]
     },
     "execution_count": 13,
     "metadata": {},
     "output_type": "execute_result"
    }
   ],
   "source": [
    "model = AGADIR(method='1s')\n",
    "result = model.predict('AAAAAAAA')\n",
    "result.get_percent_helix()"
   ]
  },
  {
   "cell_type": "code",
   "execution_count": 14,
   "metadata": {},
   "outputs": [
    {
     "data": {
      "text/plain": [
       "0.112"
      ]
     },
     "execution_count": 14,
     "metadata": {},
     "output_type": "execute_result"
    }
   ],
   "source": [
    "model = AGADIR(method='1s')\n",
    "result = model.predict('SAAAAAAA')\n",
    "result.get_percent_helix()"
   ]
  },
  {
   "cell_type": "code",
   "execution_count": 15,
   "metadata": {},
   "outputs": [
    {
     "data": {
      "text/plain": [
       "0.04"
      ]
     },
     "execution_count": 15,
     "metadata": {},
     "output_type": "execute_result"
    }
   ],
   "source": [
    "model = AGADIR(method='1s')\n",
    "result = model.predict('AAAAAAAG')\n",
    "result.get_percent_helix()"
   ]
  },
  {
   "cell_type": "code",
   "execution_count": 16,
   "metadata": {},
   "outputs": [
    {
     "data": {
      "text/plain": [
       "0.161"
      ]
     },
     "execution_count": 16,
     "metadata": {},
     "output_type": "execute_result"
    }
   ],
   "source": [
    "model = AGADIR(method='1s')\n",
    "result = model.predict('SAAAAAAG')\n",
    "result.get_percent_helix()"
   ]
  },
  {
   "cell_type": "markdown",
   "metadata": {},
   "source": [
    "## Side-chain"
   ]
  },
  {
   "cell_type": "code",
   "execution_count": 17,
   "metadata": {},
   "outputs": [
    {
     "data": {
      "text/plain": [
       "0.025"
      ]
     },
     "execution_count": 17,
     "metadata": {},
     "output_type": "execute_result"
    }
   ],
   "source": [
    "model = AGADIR(method='1s')\n",
    "result = model.predict('AAAAAAAA')\n",
    "result.get_percent_helix()"
   ]
  },
  {
   "cell_type": "code",
   "execution_count": 18,
   "metadata": {},
   "outputs": [
    {
     "data": {
      "text/plain": [
       "0.017"
      ]
     },
     "execution_count": 18,
     "metadata": {},
     "output_type": "execute_result"
    }
   ],
   "source": [
    "model = AGADIR(method='1s')\n",
    "result = model.predict('ADAAAKAA')\n",
    "result.get_percent_helix()"
   ]
  },
  {
   "cell_type": "code",
   "execution_count": 19,
   "metadata": {},
   "outputs": [
    {
     "data": {
      "text/plain": [
       "0.014"
      ]
     },
     "execution_count": 19,
     "metadata": {},
     "output_type": "execute_result"
    }
   ],
   "source": [
    "model = AGADIR(method='1s')\n",
    "result = model.predict('ADAAKAAA')\n",
    "result.get_percent_helix()"
   ]
  },
  {
   "cell_type": "code",
   "execution_count": 20,
   "metadata": {},
   "outputs": [
    {
     "data": {
      "text/plain": [
       "0.016"
      ]
     },
     "execution_count": 20,
     "metadata": {},
     "output_type": "execute_result"
    }
   ],
   "source": [
    "model = AGADIR(method='1s')\n",
    "result = model.predict('AIAAALAA')\n",
    "result.get_percent_helix()"
   ]
  },
  {
   "cell_type": "code",
   "execution_count": 21,
   "metadata": {},
   "outputs": [
    {
     "data": {
      "text/plain": [
       "0.017"
      ]
     },
     "execution_count": 21,
     "metadata": {},
     "output_type": "execute_result"
    }
   ],
   "source": [
    "model = AGADIR(method='1s')\n",
    "result = model.predict('AIAALAAA')\n",
    "result.get_percent_helix()"
   ]
  },
  {
   "cell_type": "markdown",
   "metadata": {},
   "source": [
    "## Coloumb"
   ]
  },
  {
   "cell_type": "code",
   "execution_count": 15,
   "metadata": {},
   "outputs": [
    {
     "data": {
      "text/plain": [
       "0.386"
      ]
     },
     "execution_count": 15,
     "metadata": {},
     "output_type": "execute_result"
    }
   ],
   "source": [
    "model = AGADIR(method='1s')\n",
    "result = model.predict('AAAAAAAA')\n",
    "result.get_percent_helix()"
   ]
  },
  {
   "cell_type": "code",
   "execution_count": 16,
   "metadata": {},
   "outputs": [
    {
     "data": {
      "text/plain": [
       "0.257"
      ]
     },
     "execution_count": 16,
     "metadata": {},
     "output_type": "execute_result"
    }
   ],
   "source": [
    "model = AGADIR(method='1s')\n",
    "result = model.predict('AAADAAAA')\n",
    "result.get_percent_helix()"
   ]
  },
  {
   "cell_type": "code",
   "execution_count": 17,
   "metadata": {},
   "outputs": [
    {
     "data": {
      "text/plain": [
       "0.304"
      ]
     },
     "execution_count": 17,
     "metadata": {},
     "output_type": "execute_result"
    }
   ],
   "source": [
    "model = AGADIR(method='1s')\n",
    "result = model.predict('AAAAKAAA')\n",
    "result.get_percent_helix()"
   ]
  },
  {
   "cell_type": "code",
   "execution_count": 18,
   "metadata": {},
   "outputs": [
    {
     "data": {
      "text/plain": [
       "0.214"
      ]
     },
     "execution_count": 18,
     "metadata": {},
     "output_type": "execute_result"
    }
   ],
   "source": [
    "model = AGADIR(method='1s')\n",
    "result = model.predict('AAAKKAAA')\n",
    "result.get_percent_helix()"
   ]
  },
  {
   "cell_type": "code",
   "execution_count": 19,
   "metadata": {},
   "outputs": [
    {
     "data": {
      "text/plain": [
       "0.181"
      ]
     },
     "execution_count": 19,
     "metadata": {},
     "output_type": "execute_result"
    }
   ],
   "source": [
    "model = AGADIR(method='1s')\n",
    "result = model.predict('AAADKAAA')\n",
    "result.get_percent_helix()"
   ]
  },
  {
   "cell_type": "markdown",
   "metadata": {},
   "source": [
    "## Dipole"
   ]
  },
  {
   "cell_type": "code",
   "execution_count": 20,
   "metadata": {},
   "outputs": [
    {
     "data": {
      "text/plain": [
       "(0.0, -0.44)"
      ]
     },
     "execution_count": 20,
     "metadata": {},
     "output_type": "execute_result"
    }
   ],
   "source": [
    "get_dG_dipole('AAAAAAAAAAH')"
   ]
  },
  {
   "cell_type": "code",
   "execution_count": 21,
   "metadata": {},
   "outputs": [
    {
     "data": {
      "text/plain": [
       "(0.23, -0.34)"
      ]
     },
     "execution_count": 21,
     "metadata": {},
     "output_type": "execute_result"
    }
   ],
   "source": [
    "get_dG_dipole('AAAAAAAAAHA')"
   ]
  },
  {
   "cell_type": "code",
   "execution_count": 22,
   "metadata": {},
   "outputs": [
    {
     "data": {
      "text/plain": [
       "0.675"
      ]
     },
     "execution_count": 22,
     "metadata": {},
     "output_type": "execute_result"
    }
   ],
   "source": [
    "model = AGADIR(method='1s')\n",
    "result = model.predict('AAAAAAAAAAAAAAAAAAAAAAAA')\n",
    "result.get_percent_helix()"
   ]
  },
  {
   "cell_type": "code",
   "execution_count": 23,
   "metadata": {},
   "outputs": [
    {
     "data": {
      "text/plain": [
       "0.688"
      ]
     },
     "execution_count": 23,
     "metadata": {},
     "output_type": "execute_result"
    }
   ],
   "source": [
    "model = AGADIR(method='1s')\n",
    "result = model.predict('AAAAAAAAAAAAAAAAAAAAAAAH')\n",
    "result.get_percent_helix()"
   ]
  },
  {
   "cell_type": "code",
   "execution_count": 24,
   "metadata": {},
   "outputs": [
    {
     "data": {
      "text/plain": [
       "0.685"
      ]
     },
     "execution_count": 24,
     "metadata": {},
     "output_type": "execute_result"
    }
   ],
   "source": [
    "model = AGADIR(method='1s')\n",
    "result = model.predict('AAAAAAAAAAAAAAAAAAAAAAHA')\n",
    "result.get_percent_helix()"
   ]
  },
  {
   "cell_type": "code",
   "execution_count": 25,
   "metadata": {},
   "outputs": [
    {
     "data": {
      "text/plain": [
       "0.671"
      ]
     },
     "execution_count": 25,
     "metadata": {},
     "output_type": "execute_result"
    }
   ],
   "source": [
    "model = AGADIR(method='1s')\n",
    "result = model.predict('AAAAAAAAAAAAAAAAAAAAAHAA')\n",
    "result.get_percent_helix()"
   ]
  },
  {
   "cell_type": "code",
   "execution_count": 26,
   "metadata": {},
   "outputs": [
    {
     "data": {
      "text/plain": [
       "0.658"
      ]
     },
     "execution_count": 26,
     "metadata": {},
     "output_type": "execute_result"
    }
   ],
   "source": [
    "model = AGADIR(method='1s')\n",
    "result = model.predict('AAAAAAAAAAAAAAAAAAAAHAAA')\n",
    "result.get_percent_helix()"
   ]
  },
  {
   "cell_type": "code",
   "execution_count": 27,
   "metadata": {},
   "outputs": [
    {
     "data": {
      "text/plain": [
       "0.648"
      ]
     },
     "execution_count": 27,
     "metadata": {},
     "output_type": "execute_result"
    }
   ],
   "source": [
    "model = AGADIR(method='1s')\n",
    "result = model.predict('AAAAAAAAAAAAAAAAAAAHAAAA')\n",
    "result.get_percent_helix()"
   ]
  },
  {
   "cell_type": "code",
   "execution_count": 28,
   "metadata": {},
   "outputs": [
    {
     "data": {
      "text/plain": [
       "0.641"
      ]
     },
     "execution_count": 28,
     "metadata": {},
     "output_type": "execute_result"
    }
   ],
   "source": [
    "model = AGADIR(method='1s')\n",
    "result = model.predict('AAAAAAAAAAAAAAAAAAHAAAAA')\n",
    "result.get_percent_helix()"
   ]
  },
  {
   "cell_type": "code",
   "execution_count": 29,
   "metadata": {},
   "outputs": [
    {
     "data": {
      "text/plain": [
       "0.665"
      ]
     },
     "execution_count": 29,
     "metadata": {},
     "output_type": "execute_result"
    }
   ],
   "source": [
    "model = AGADIR(method='1s')\n",
    "result = model.predict('AHAAAAAAAAAAAAAAAAAAAAAA')\n",
    "result.get_percent_helix()"
   ]
  },
  {
   "cell_type": "code",
   "execution_count": 30,
   "metadata": {},
   "outputs": [
    {
     "data": {
      "text/plain": [
       "0.691"
      ]
     },
     "execution_count": 30,
     "metadata": {},
     "output_type": "execute_result"
    }
   ],
   "source": [
    "model = AGADIR(method='1s')\n",
    "result = model.predict('DAAAAAAAAAAAAAAAAAAAAAAA')\n",
    "result.get_percent_helix()"
   ]
  },
  {
   "cell_type": "code",
   "execution_count": 31,
   "metadata": {},
   "outputs": [
    {
     "data": {
      "text/plain": [
       "0.686"
      ]
     },
     "execution_count": 31,
     "metadata": {},
     "output_type": "execute_result"
    }
   ],
   "source": [
    "model = AGADIR(method='1s')\n",
    "result = model.predict('ADAAAAAAAAAAAAAAAAAAAAAA')\n",
    "result.get_percent_helix()"
   ]
  },
  {
   "cell_type": "code",
   "execution_count": 32,
   "metadata": {},
   "outputs": [
    {
     "data": {
      "text/plain": [
       "0.675"
      ]
     },
     "execution_count": 32,
     "metadata": {},
     "output_type": "execute_result"
    }
   ],
   "source": [
    "model = AGADIR(method='1s')\n",
    "result = model.predict('AADAAAAAAAAAAAAAAAAAAAAA')\n",
    "result.get_percent_helix()"
   ]
  },
  {
   "cell_type": "code",
   "execution_count": 33,
   "metadata": {},
   "outputs": [
    {
     "data": {
      "text/plain": [
       "0.671"
      ]
     },
     "execution_count": 33,
     "metadata": {},
     "output_type": "execute_result"
    }
   ],
   "source": [
    "model = AGADIR(method='1s')\n",
    "result = model.predict('AAADAAAAAAAAAAAAAAAAAAAA')\n",
    "result.get_percent_helix()"
   ]
  },
  {
   "cell_type": "code",
   "execution_count": 34,
   "metadata": {},
   "outputs": [
    {
     "data": {
      "text/plain": [
       "0.667"
      ]
     },
     "execution_count": 34,
     "metadata": {},
     "output_type": "execute_result"
    }
   ],
   "source": [
    "model = AGADIR(method='1s')\n",
    "result = model.predict('AAAADAAAAAAAAAAAAAAAAAAA')\n",
    "result.get_percent_helix()"
   ]
  },
  {
   "cell_type": "code",
   "execution_count": 35,
   "metadata": {},
   "outputs": [
    {
     "data": {
      "text/plain": [
       "0.657"
      ]
     },
     "execution_count": 35,
     "metadata": {},
     "output_type": "execute_result"
    }
   ],
   "source": [
    "model = AGADIR(method='1s')\n",
    "result = model.predict('AAAAADAAAAAAAAAAAAAAAAAA')\n",
    "result.get_percent_helix()"
   ]
  }
 ],
 "metadata": {
  "kernelspec": {
   "display_name": "Python 3",
   "language": "python",
   "name": "python3"
  },
  "language_info": {
   "codemirror_mode": {
    "name": "ipython",
    "version": 3
   },
   "file_extension": ".py",
   "mimetype": "text/x-python",
   "name": "python",
   "nbconvert_exporter": "python",
   "pygments_lexer": "ipython3",
   "version": "3.12.2"
  }
 },
 "nbformat": 4,
 "nbformat_minor": 2
}
